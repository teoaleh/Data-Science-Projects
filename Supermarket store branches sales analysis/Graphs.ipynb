{
 "cells": [
  {
   "cell_type": "code",
   "execution_count": 40,
   "id": "a04db95e",
   "metadata": {},
   "outputs": [],
   "source": [
    "import pandas as pd\n",
    "import numpy as np\n",
    "import matplotlib as mpl\n",
    "import matplotlib.pyplot as plt\n",
    "%matplotlib inline\n",
    "import seaborn as sns"
   ]
  },
  {
   "cell_type": "code",
   "execution_count": 9,
   "id": "15a15718",
   "metadata": {},
   "outputs": [
    {
     "name": "stdout",
     "output_type": "stream",
     "text": [
      "   Store ID   Store_Area  Items_Available  Daily_Customer_Count  Store_Sales\n",
      "0          1        1659             1961                   530        66490\n",
      "1          2        1461             1752                   210        39820\n",
      "2          3        1340             1609                   720        54010\n",
      "3          4        1451             1748                   620        53730\n",
      "4          5        1770             2111                   450        46620\n",
      "--------------------------------------------------------------------------------\n",
      "     Store ID   Store_Area  Items_Available  Daily_Customer_Count  Store_Sales\n",
      "891        892        1582             1910                  1080        66390\n",
      "892        893        1387             1663                   850        82080\n",
      "893        894        1200             1436                  1060        76440\n",
      "894        895        1299             1560                   770        96610\n",
      "895        896        1174             1429                  1110        54340\n",
      "--------------------------------------------------------------------------------\n",
      "<class 'pandas.core.frame.DataFrame'>\n",
      "RangeIndex: 896 entries, 0 to 895\n",
      "Data columns (total 5 columns):\n",
      " #   Column                Non-Null Count  Dtype\n",
      "---  ------                --------------  -----\n",
      " 0   Store ID              896 non-null    int64\n",
      " 1   Store_Area            896 non-null    int64\n",
      " 2   Items_Available       896 non-null    int64\n",
      " 3   Daily_Customer_Count  896 non-null    int64\n",
      " 4   Store_Sales           896 non-null    int64\n",
      "dtypes: int64(5)\n",
      "memory usage: 35.1 KB\n",
      "None\n"
     ]
    }
   ],
   "source": [
    "df = pd.read_csv('Stores.csv')\n",
    "print(df.head())\n",
    "print('-'*80)\n",
    "print(df.tail())\n",
    "print('-'*80)\n",
    "print(df.info())"
   ]
  },
  {
   "cell_type": "code",
   "execution_count": 8,
   "id": "98fd4e2f",
   "metadata": {},
   "outputs": [
    {
     "data": {
      "text/plain": [
       "False    896\n",
       "dtype: int64"
      ]
     },
     "execution_count": 8,
     "metadata": {},
     "output_type": "execute_result"
    }
   ],
   "source": [
    "df.duplicated().value_counts()"
   ]
  },
  {
   "cell_type": "code",
   "execution_count": 11,
   "id": "5c6bffc5",
   "metadata": {},
   "outputs": [
    {
     "data": {
      "text/html": [
       "<div>\n",
       "<style scoped>\n",
       "    .dataframe tbody tr th:only-of-type {\n",
       "        vertical-align: middle;\n",
       "    }\n",
       "\n",
       "    .dataframe tbody tr th {\n",
       "        vertical-align: top;\n",
       "    }\n",
       "\n",
       "    .dataframe thead th {\n",
       "        text-align: right;\n",
       "    }\n",
       "</style>\n",
       "<table border=\"1\" class=\"dataframe\">\n",
       "  <thead>\n",
       "    <tr style=\"text-align: right;\">\n",
       "      <th></th>\n",
       "      <th>Store ID</th>\n",
       "      <th>Store_Area</th>\n",
       "      <th>Items_Available</th>\n",
       "      <th>Daily_Customer_Count</th>\n",
       "      <th>Store_Sales</th>\n",
       "    </tr>\n",
       "  </thead>\n",
       "  <tbody>\n",
       "    <tr>\n",
       "      <th>count</th>\n",
       "      <td>896.000000</td>\n",
       "      <td>896.000000</td>\n",
       "      <td>896.000000</td>\n",
       "      <td>896.000000</td>\n",
       "      <td>896.000000</td>\n",
       "    </tr>\n",
       "    <tr>\n",
       "      <th>mean</th>\n",
       "      <td>448.500000</td>\n",
       "      <td>1485.409598</td>\n",
       "      <td>1782.035714</td>\n",
       "      <td>786.350446</td>\n",
       "      <td>59351.305804</td>\n",
       "    </tr>\n",
       "    <tr>\n",
       "      <th>std</th>\n",
       "      <td>258.797218</td>\n",
       "      <td>250.237011</td>\n",
       "      <td>299.872053</td>\n",
       "      <td>265.389281</td>\n",
       "      <td>17190.741895</td>\n",
       "    </tr>\n",
       "    <tr>\n",
       "      <th>min</th>\n",
       "      <td>1.000000</td>\n",
       "      <td>775.000000</td>\n",
       "      <td>932.000000</td>\n",
       "      <td>10.000000</td>\n",
       "      <td>14920.000000</td>\n",
       "    </tr>\n",
       "    <tr>\n",
       "      <th>25%</th>\n",
       "      <td>224.750000</td>\n",
       "      <td>1316.750000</td>\n",
       "      <td>1575.500000</td>\n",
       "      <td>600.000000</td>\n",
       "      <td>46530.000000</td>\n",
       "    </tr>\n",
       "    <tr>\n",
       "      <th>50%</th>\n",
       "      <td>448.500000</td>\n",
       "      <td>1477.000000</td>\n",
       "      <td>1773.500000</td>\n",
       "      <td>780.000000</td>\n",
       "      <td>58605.000000</td>\n",
       "    </tr>\n",
       "    <tr>\n",
       "      <th>75%</th>\n",
       "      <td>672.250000</td>\n",
       "      <td>1653.500000</td>\n",
       "      <td>1982.750000</td>\n",
       "      <td>970.000000</td>\n",
       "      <td>71872.500000</td>\n",
       "    </tr>\n",
       "    <tr>\n",
       "      <th>max</th>\n",
       "      <td>896.000000</td>\n",
       "      <td>2229.000000</td>\n",
       "      <td>2667.000000</td>\n",
       "      <td>1560.000000</td>\n",
       "      <td>116320.000000</td>\n",
       "    </tr>\n",
       "  </tbody>\n",
       "</table>\n",
       "</div>"
      ],
      "text/plain": [
       "        Store ID    Store_Area  Items_Available  Daily_Customer_Count  \\\n",
       "count  896.000000   896.000000       896.000000            896.000000   \n",
       "mean   448.500000  1485.409598      1782.035714            786.350446   \n",
       "std    258.797218   250.237011       299.872053            265.389281   \n",
       "min      1.000000   775.000000       932.000000             10.000000   \n",
       "25%    224.750000  1316.750000      1575.500000            600.000000   \n",
       "50%    448.500000  1477.000000      1773.500000            780.000000   \n",
       "75%    672.250000  1653.500000      1982.750000            970.000000   \n",
       "max    896.000000  2229.000000      2667.000000           1560.000000   \n",
       "\n",
       "         Store_Sales  \n",
       "count     896.000000  \n",
       "mean    59351.305804  \n",
       "std     17190.741895  \n",
       "min     14920.000000  \n",
       "25%     46530.000000  \n",
       "50%     58605.000000  \n",
       "75%     71872.500000  \n",
       "max    116320.000000  "
      ]
     },
     "execution_count": 11,
     "metadata": {},
     "output_type": "execute_result"
    }
   ],
   "source": [
    "df.describe()"
   ]
  },
  {
   "cell_type": "code",
   "execution_count": 17,
   "id": "35e9385f",
   "metadata": {},
   "outputs": [
    {
     "data": {
      "text/plain": [
       "<AxesSubplot:xlabel='Store_Sales', ylabel='Count'>"
      ]
     },
     "execution_count": 17,
     "metadata": {},
     "output_type": "execute_result"
    },
    {
     "data": {
      "image/png": "[encoded data removed]",
      "text/plain": [
       "<Figure size 720x720 with 4 Axes>"
      ]
     },
     "metadata": {
      "needs_background": "light"
     },
     "output_type": "display_data"
    }
   ],
   "source": [
    "fig,axes = plt.subplots(2,2,figsize=(10,10))\n",
    "sns.histplot(data=df,x='Store_Area',binwidth=10,kde=True,ax=axes[0,0])\n",
    "sns.histplot(data = df, x = 'Items_Available',binwidth = 50,kde=True,ax=axes[0,1])\n",
    "sns.histplot(data = df, x = 'Daily_Customer_Count',binwidth = 10,kde=True,ax=axes[1,0])\n",
    "sns.histplot(data = df, x = 'Store_Sales',binwidth = 1000,kde=True,ax=axes[1,1])"
   ]
  },
  {
   "cell_type": "code",
   "execution_count": 19,
   "id": "ac3f4b69",
   "metadata": {},
   "outputs": [
    {
     "data": {
      "text/plain": [
       "<AxesSubplot:>"
      ]
     },
     "execution_count": 19,
     "metadata": {},
     "output_type": "execute_result"
    },
    {
     "data": {
      "image/png": "[encoded data removed]",
      "text/plain": [
       "<Figure size 432x288 with 2 Axes>"
      ]
     },
     "metadata": {
      "needs_background": "light"
     },
     "output_type": "display_data"
    }
   ],
   "source": [
    "sns.heatmap(df.corr(), cmap='YlGnBu',linewidths= 0.5, linecolor = 'white')"
   ]
  },
  {
   "cell_type": "code",
   "execution_count": 20,
   "id": "55e71b55",
   "metadata": {},
   "outputs": [
    {
     "data": {
      "text/plain": [
       "<AxesSubplot:xlabel='Store_Area', ylabel='Items_Available'>"
      ]
     },
     "execution_count": 20,
     "metadata": {},
     "output_type": "execute_result"
    },
    {
     "data": {
      "image/png": "[encoded data removed]",
      "text/plain": [
       "<Figure size 432x288 with 1 Axes>"
      ]
     },
     "metadata": {
      "needs_background": "light"
     },
     "output_type": "display_data"
    }
   ],
   "source": [
    "sns.scatterplot(x=df['Store_Area'], y=df['Items_Available'])"
   ]
  },
  {
   "cell_type": "code",
   "execution_count": 25,
   "id": "32d013a6",
   "metadata": {},
   "outputs": [
    {
     "data": {
      "text/html": [
       "<div>\n",
       "<style scoped>\n",
       "    .dataframe tbody tr th:only-of-type {\n",
       "        vertical-align: middle;\n",
       "    }\n",
       "\n",
       "    .dataframe tbody tr th {\n",
       "        vertical-align: top;\n",
       "    }\n",
       "\n",
       "    .dataframe thead th {\n",
       "        text-align: right;\n",
       "    }\n",
       "</style>\n",
       "<table border=\"1\" class=\"dataframe\">\n",
       "  <thead>\n",
       "    <tr style=\"text-align: right;\">\n",
       "      <th></th>\n",
       "      <th>Store ID</th>\n",
       "      <th>Store_Area</th>\n",
       "      <th>Items_Available</th>\n",
       "      <th>Daily_Customer_Count</th>\n",
       "      <th>Store_Sales</th>\n",
       "    </tr>\n",
       "  </thead>\n",
       "  <tbody>\n",
       "    <tr>\n",
       "      <th>649</th>\n",
       "      <td>650</td>\n",
       "      <td>1989</td>\n",
       "      <td>2414</td>\n",
       "      <td>860</td>\n",
       "      <td>116320</td>\n",
       "    </tr>\n",
       "    <tr>\n",
       "      <th>868</th>\n",
       "      <td>869</td>\n",
       "      <td>1775</td>\n",
       "      <td>2104</td>\n",
       "      <td>980</td>\n",
       "      <td>105150</td>\n",
       "    </tr>\n",
       "    <tr>\n",
       "      <th>432</th>\n",
       "      <td>433</td>\n",
       "      <td>1365</td>\n",
       "      <td>1638</td>\n",
       "      <td>680</td>\n",
       "      <td>102920</td>\n",
       "    </tr>\n",
       "    <tr>\n",
       "      <th>408</th>\n",
       "      <td>409</td>\n",
       "      <td>1303</td>\n",
       "      <td>1587</td>\n",
       "      <td>1310</td>\n",
       "      <td>102310</td>\n",
       "    </tr>\n",
       "    <tr>\n",
       "      <th>758</th>\n",
       "      <td>759</td>\n",
       "      <td>1486</td>\n",
       "      <td>1758</td>\n",
       "      <td>820</td>\n",
       "      <td>101820</td>\n",
       "    </tr>\n",
       "    <tr>\n",
       "      <th>...</th>\n",
       "      <td>...</td>\n",
       "      <td>...</td>\n",
       "      <td>...</td>\n",
       "      <td>...</td>\n",
       "      <td>...</td>\n",
       "    </tr>\n",
       "    <tr>\n",
       "      <th>50</th>\n",
       "      <td>51</td>\n",
       "      <td>1514</td>\n",
       "      <td>1820</td>\n",
       "      <td>910</td>\n",
       "      <td>81820</td>\n",
       "    </tr>\n",
       "    <tr>\n",
       "      <th>752</th>\n",
       "      <td>753</td>\n",
       "      <td>1648</td>\n",
       "      <td>2017</td>\n",
       "      <td>930</td>\n",
       "      <td>81720</td>\n",
       "    </tr>\n",
       "    <tr>\n",
       "      <th>331</th>\n",
       "      <td>332</td>\n",
       "      <td>1633</td>\n",
       "      <td>1968</td>\n",
       "      <td>330</td>\n",
       "      <td>81470</td>\n",
       "    </tr>\n",
       "    <tr>\n",
       "      <th>621</th>\n",
       "      <td>622</td>\n",
       "      <td>1383</td>\n",
       "      <td>1687</td>\n",
       "      <td>830</td>\n",
       "      <td>81390</td>\n",
       "    </tr>\n",
       "    <tr>\n",
       "      <th>810</th>\n",
       "      <td>811</td>\n",
       "      <td>994</td>\n",
       "      <td>1194</td>\n",
       "      <td>1090</td>\n",
       "      <td>81390</td>\n",
       "    </tr>\n",
       "  </tbody>\n",
       "</table>\n",
       "<p>100 rows × 5 columns</p>\n",
       "</div>"
      ],
      "text/plain": [
       "     Store ID   Store_Area  Items_Available  Daily_Customer_Count  Store_Sales\n",
       "649        650        1989             2414                   860       116320\n",
       "868        869        1775             2104                   980       105150\n",
       "432        433        1365             1638                   680       102920\n",
       "408        409        1303             1587                  1310       102310\n",
       "758        759        1486             1758                   820       101820\n",
       "..         ...         ...              ...                   ...          ...\n",
       "50          51        1514             1820                   910        81820\n",
       "752        753        1648             2017                   930        81720\n",
       "331        332        1633             1968                   330        81470\n",
       "621        622        1383             1687                   830        81390\n",
       "810        811         994             1194                  1090        81390\n",
       "\n",
       "[100 rows x 5 columns]"
      ]
     },
     "execution_count": 25,
     "metadata": {},
     "output_type": "execute_result"
    }
   ],
   "source": [
    "high_sales = df.sort_values(by='Store_Sales', ascending=False).head(100)\n",
    "high_sales"
   ]
  },
  {
   "cell_type": "code",
   "execution_count": 26,
   "id": "de62bd85",
   "metadata": {},
   "outputs": [
    {
     "data": {
      "text/html": [
       "<div>\n",
       "<style scoped>\n",
       "    .dataframe tbody tr th:only-of-type {\n",
       "        vertical-align: middle;\n",
       "    }\n",
       "\n",
       "    .dataframe tbody tr th {\n",
       "        vertical-align: top;\n",
       "    }\n",
       "\n",
       "    .dataframe thead th {\n",
       "        text-align: right;\n",
       "    }\n",
       "</style>\n",
       "<table border=\"1\" class=\"dataframe\">\n",
       "  <thead>\n",
       "    <tr style=\"text-align: right;\">\n",
       "      <th></th>\n",
       "      <th>Store ID</th>\n",
       "      <th>Store_Area</th>\n",
       "      <th>Items_Available</th>\n",
       "      <th>Daily_Customer_Count</th>\n",
       "      <th>Store_Sales</th>\n",
       "    </tr>\n",
       "  </thead>\n",
       "  <tbody>\n",
       "    <tr>\n",
       "      <th>count</th>\n",
       "      <td>100.000000</td>\n",
       "      <td>100.000000</td>\n",
       "      <td>100.00000</td>\n",
       "      <td>100.000000</td>\n",
       "      <td>100.000000</td>\n",
       "    </tr>\n",
       "    <tr>\n",
       "      <th>mean</th>\n",
       "      <td>514.140000</td>\n",
       "      <td>1501.630000</td>\n",
       "      <td>1801.68000</td>\n",
       "      <td>801.100000</td>\n",
       "      <td>88794.800000</td>\n",
       "    </tr>\n",
       "    <tr>\n",
       "      <th>std</th>\n",
       "      <td>252.210751</td>\n",
       "      <td>278.123316</td>\n",
       "      <td>332.16799</td>\n",
       "      <td>258.655791</td>\n",
       "      <td>6474.174879</td>\n",
       "    </tr>\n",
       "    <tr>\n",
       "      <th>min</th>\n",
       "      <td>30.000000</td>\n",
       "      <td>932.000000</td>\n",
       "      <td>1138.00000</td>\n",
       "      <td>100.000000</td>\n",
       "      <td>81390.000000</td>\n",
       "    </tr>\n",
       "    <tr>\n",
       "      <th>25%</th>\n",
       "      <td>342.250000</td>\n",
       "      <td>1290.000000</td>\n",
       "      <td>1547.50000</td>\n",
       "      <td>660.000000</td>\n",
       "      <td>83967.500000</td>\n",
       "    </tr>\n",
       "    <tr>\n",
       "      <th>50%</th>\n",
       "      <td>557.500000</td>\n",
       "      <td>1506.000000</td>\n",
       "      <td>1811.00000</td>\n",
       "      <td>815.000000</td>\n",
       "      <td>87195.000000</td>\n",
       "    </tr>\n",
       "    <tr>\n",
       "      <th>75%</th>\n",
       "      <td>733.500000</td>\n",
       "      <td>1703.000000</td>\n",
       "      <td>2053.75000</td>\n",
       "      <td>957.500000</td>\n",
       "      <td>92317.500000</td>\n",
       "    </tr>\n",
       "    <tr>\n",
       "      <th>max</th>\n",
       "      <td>895.000000</td>\n",
       "      <td>2229.000000</td>\n",
       "      <td>2667.00000</td>\n",
       "      <td>1310.000000</td>\n",
       "      <td>116320.000000</td>\n",
       "    </tr>\n",
       "  </tbody>\n",
       "</table>\n",
       "</div>"
      ],
      "text/plain": [
       "        Store ID    Store_Area  Items_Available  Daily_Customer_Count  \\\n",
       "count  100.000000   100.000000        100.00000            100.000000   \n",
       "mean   514.140000  1501.630000       1801.68000            801.100000   \n",
       "std    252.210751   278.123316        332.16799            258.655791   \n",
       "min     30.000000   932.000000       1138.00000            100.000000   \n",
       "25%    342.250000  1290.000000       1547.50000            660.000000   \n",
       "50%    557.500000  1506.000000       1811.00000            815.000000   \n",
       "75%    733.500000  1703.000000       2053.75000            957.500000   \n",
       "max    895.000000  2229.000000       2667.00000           1310.000000   \n",
       "\n",
       "         Store_Sales  \n",
       "count     100.000000  \n",
       "mean    88794.800000  \n",
       "std      6474.174879  \n",
       "min     81390.000000  \n",
       "25%     83967.500000  \n",
       "50%     87195.000000  \n",
       "75%     92317.500000  \n",
       "max    116320.000000  "
      ]
     },
     "execution_count": 26,
     "metadata": {},
     "output_type": "execute_result"
    }
   ],
   "source": [
    "high_sales.describe()"
   ]
  },
  {
   "cell_type": "code",
   "execution_count": 31,
   "id": "ce0c5db6",
   "metadata": {},
   "outputs": [
    {
     "data": {
      "text/plain": [
       "<AxesSubplot:xlabel='Items_Available', ylabel='Store_Sales'>"
      ]
     },
     "execution_count": 31,
     "metadata": {},
     "output_type": "execute_result"
    },
    {
     "data": {
      "image/png": "[encoded data removed]",
      "text/plain": [
       "<Figure size 720x360 with 2 Axes>"
      ]
     },
     "metadata": {
      "needs_background": "light"
     },
     "output_type": "display_data"
    }
   ],
   "source": [
    "fig, axes = plt.subplots(1,2,figsize=(10,5))\n",
    "sns.scatterplot(x=high_sales['Daily_Customer_Count'],y=high_sales['Store_Sales'])\n",
    "sns.scatterplot(x=high_sales['Items_Available'],y=high_sales['Store_Sales'], ax=axes[0])"
   ]
  },
  {
   "cell_type": "code",
   "execution_count": 38,
   "id": "88d831ef",
   "metadata": {},
   "outputs": [
    {
     "data": {
      "text/plain": [
       "<AxesSubplot:xlabel='Daily_Customer_Count', ylabel='Store_Sales'>"
      ]
     },
     "execution_count": 38,
     "metadata": {},
     "output_type": "execute_result"
    },
    {
     "data": {
      "image/png": "[encoded data removed]",
      "text/plain": [
       "<Figure size 432x288 with 2 Axes>"
      ]
     },
     "metadata": {
      "needs_background": "light"
     },
     "output_type": "display_data"
    }
   ],
   "source": [
    "sns.histplot(x=high_sales['Daily_Customer_Count'], y=high_sales['Store_Sales'],cbar=True, log_scale=(False,True))"
   ]
  },
  {
   "cell_type": "markdown",
   "id": "ac0b2696",
   "metadata": {},
   "source": [
    "Dropping the index column"
   ]
  },
  {
   "cell_type": "code",
   "execution_count": 41,
   "id": "d158760c",
   "metadata": {},
   "outputs": [],
   "source": [
    "df.drop(df.columns[[0]], axis = 1, inplace = True)"
   ]
  },
  {
   "cell_type": "code",
   "execution_count": 42,
   "id": "af45f7a5",
   "metadata": {},
   "outputs": [
    {
     "data": {
      "text/html": [
       "<div>\n",
       "<style scoped>\n",
       "    .dataframe tbody tr th:only-of-type {\n",
       "        vertical-align: middle;\n",
       "    }\n",
       "\n",
       "    .dataframe tbody tr th {\n",
       "        vertical-align: top;\n",
       "    }\n",
       "\n",
       "    .dataframe thead th {\n",
       "        text-align: right;\n",
       "    }\n",
       "</style>\n",
       "<table border=\"1\" class=\"dataframe\">\n",
       "  <thead>\n",
       "    <tr style=\"text-align: right;\">\n",
       "      <th></th>\n",
       "      <th>Store_Area</th>\n",
       "      <th>Items_Available</th>\n",
       "      <th>Daily_Customer_Count</th>\n",
       "      <th>Store_Sales</th>\n",
       "    </tr>\n",
       "  </thead>\n",
       "  <tbody>\n",
       "    <tr>\n",
       "      <th>0</th>\n",
       "      <td>1659</td>\n",
       "      <td>1961</td>\n",
       "      <td>530</td>\n",
       "      <td>66490</td>\n",
       "    </tr>\n",
       "    <tr>\n",
       "      <th>1</th>\n",
       "      <td>1461</td>\n",
       "      <td>1752</td>\n",
       "      <td>210</td>\n",
       "      <td>39820</td>\n",
       "    </tr>\n",
       "    <tr>\n",
       "      <th>2</th>\n",
       "      <td>1340</td>\n",
       "      <td>1609</td>\n",
       "      <td>720</td>\n",
       "      <td>54010</td>\n",
       "    </tr>\n",
       "    <tr>\n",
       "      <th>3</th>\n",
       "      <td>1451</td>\n",
       "      <td>1748</td>\n",
       "      <td>620</td>\n",
       "      <td>53730</td>\n",
       "    </tr>\n",
       "    <tr>\n",
       "      <th>4</th>\n",
       "      <td>1770</td>\n",
       "      <td>2111</td>\n",
       "      <td>450</td>\n",
       "      <td>46620</td>\n",
       "    </tr>\n",
       "  </tbody>\n",
       "</table>\n",
       "</div>"
      ],
      "text/plain": [
       "   Store_Area  Items_Available  Daily_Customer_Count  Store_Sales\n",
       "0        1659             1961                   530        66490\n",
       "1        1461             1752                   210        39820\n",
       "2        1340             1609                   720        54010\n",
       "3        1451             1748                   620        53730\n",
       "4        1770             2111                   450        46620"
      ]
     },
     "execution_count": 42,
     "metadata": {},
     "output_type": "execute_result"
    }
   ],
   "source": [
    "df.head()"
   ]
  },
  {
   "cell_type": "code",
   "execution_count": 44,
   "id": "141be23a",
   "metadata": {},
   "outputs": [],
   "source": [
    "import missingno as msno"
   ]
  },
  {
   "cell_type": "code",
   "execution_count": null,
   "id": "37fcb86a",
   "metadata": {},
   "outputs": [],
   "source": [
    "msno.bar(df, figsize= (16,5), color= 'red')"
   ]
  },
  {
   "cell_type": "code",
   "execution_count": null,
   "id": "55de7888",
   "metadata": {},
   "outputs": [],
   "source": []
  }
 ],
 "metadata": {
  "kernelspec": {
   "display_name": "Python 3 (ipykernel)",
   "language": "python",
   "name": "python3"
  },
  "language_info": {
   "codemirror_mode": {
    "name": "ipython",
    "version": 3
   },
   "file_extension": ".py",
   "mimetype": "text/x-python",
   "name": "python",
   "nbconvert_exporter": "python",
   "pygments_lexer": "ipython3",
   "version": "3.9.12"
  }
 },
 "nbformat": 4,
 "nbformat_minor": 5
}
