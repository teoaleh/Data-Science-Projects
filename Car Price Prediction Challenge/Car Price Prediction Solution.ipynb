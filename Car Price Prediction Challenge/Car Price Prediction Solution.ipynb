{
 "cells": [
  {
   "cell_type": "code",
   "execution_count": 1,
   "id": "a396d8c2",
   "metadata": {},
   "outputs": [],
   "source": [
    "import pandas as pd\n",
    "import numpy as np\n",
    "import matplotlib.pyplot as plt\n",
    "\n"
   ]
  },
  {
   "cell_type": "markdown",
   "id": "c21acbfa",
   "metadata": {},
   "source": [
    "Assignment\n",
    "Your notebooks must contain the following steps:\n",
    "\n",
    "Perform data cleaning and pre-processing.\n",
    "    What steps did you use in this process and how did you clean your data.\n",
    "    \n",
    "Perform exploratory data analysis on the given dataset.\n",
    "    Explain each and every graphs that you make.\n",
    "    \n",
    "Train a ml-model and evaluate it using different metrics.\n",
    "    Why did you choose that particular model? What was the accuracy?\n",
    "    \n",
    "Hyperparameter optimization and feature selection is a plus.\n",
    "\n",
    "Model deployment and use of ml-flow is a plus.\n",
    "\n",
    "Perform model interpretation and show feature importance for your model.\n",
    "    Provide some explanation for the above point.\n",
    "    \n",
    "Future steps.\n",
    "Note: try to have your notebooks as presentable as possible.\n",
    "\n",
    "Attributes\n",
    "ID\n",
    "Price: price of the care(Target Column)\n",
    "Levy\n",
    "Manufacturer\n",
    "Model\n",
    "Prod. year\n",
    "Category\n",
    "Leather interior\n",
    "Fuel type\n",
    "Engine volume\n",
    "Mileage\n",
    "Cylinders\n",
    "Gear box type\n",
    "Drive wheels\n",
    "Doors\n",
    "Wheel\n",
    "Color\n",
    "Airbags"
   ]
  },
  {
   "cell_type": "code",
   "execution_count": null,
   "id": "9b362b50",
   "metadata": {},
   "outputs": [],
   "source": []
  }
 ],
 "metadata": {
  "kernelspec": {
   "display_name": "Python 3 (ipykernel)",
   "language": "python",
   "name": "python3"
  },
  "language_info": {
   "codemirror_mode": {
    "name": "ipython",
    "version": 3
   },
   "file_extension": ".py",
   "mimetype": "text/x-python",
   "name": "python",
   "nbconvert_exporter": "python",
   "pygments_lexer": "ipython3",
   "version": "3.9.12"
  }
 },
 "nbformat": 4,
 "nbformat_minor": 5
}
